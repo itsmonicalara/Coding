{
 "cells": [
  {
   "cell_type": "markdown",
   "id": "75cb33f8",
   "metadata": {},
   "source": [
    "# Recursion 1"
   ]
  },
  {
   "cell_type": "code",
   "execution_count": 1,
   "id": "4add858d",
   "metadata": {},
   "outputs": [],
   "source": [
    "# Ej. Multiplica 2 números pero sin el operando *"
   ]
  },
  {
   "cell_type": "code",
   "execution_count": 1,
   "id": "b76916fc",
   "metadata": {},
   "outputs": [],
   "source": [
    "def mult(a, b):\n",
    "    if a == 0:\n",
    "        return 0\n",
    "    else:\n",
    "        return(b + mult(a - 1, b))"
   ]
  },
  {
   "cell_type": "code",
   "execution_count": 4,
   "id": "cfa53735",
   "metadata": {},
   "outputs": [
    {
     "name": "stdout",
     "output_type": "stream",
     "text": [
      "6\n"
     ]
    }
   ],
   "source": [
    "print(mult(3, 2))"
   ]
  },
  {
   "cell_type": "markdown",
   "id": "737f7f8c",
   "metadata": {},
   "source": [
    "----\n",
    "### 1.\n",
    "#### The function my_count returns the number of elements contained in its input list. Do not use the predefined len function. "
   ]
  },
  {
   "cell_type": "code",
   "execution_count": 6,
   "id": "bf84134f",
   "metadata": {},
   "outputs": [],
   "source": [
    "#Codiguito Bonito\n",
    "def my_count(a_list):\n",
    "    if not a_list:\n",
    "        return 0\n",
    "    else: \n",
    "        # Add the length of the first element\n",
    "        return(1 + my_count(a_list[1:])) "
   ]
  },
  {
   "cell_type": "code",
   "execution_count": 7,
   "id": "feacb5f5",
   "metadata": {},
   "outputs": [],
   "source": [
    "def my_count2(a_list):\n",
    "    if not a_list:\n",
    "        return 0\n",
    "    else:\n",
    "        counter = 1 \n",
    "        counter += my_count(a_list[1:])\n",
    "        return counter"
   ]
  },
  {
   "cell_type": "code",
   "execution_count": 8,
   "id": "0a860d9a",
   "metadata": {},
   "outputs": [
    {
     "data": {
      "text/plain": [
       "3"
      ]
     },
     "execution_count": 8,
     "metadata": {},
     "output_type": "execute_result"
    }
   ],
   "source": [
    "my_count([1, 2, 3])\n",
    "my_count2([1, 2, 3])"
   ]
  },
  {
   "cell_type": "code",
   "execution_count": 9,
   "id": "bb3a8a7c",
   "metadata": {},
   "outputs": [
    {
     "data": {
      "text/plain": [
       "True"
      ]
     },
     "execution_count": 9,
     "metadata": {},
     "output_type": "execute_result"
    }
   ],
   "source": [
    "#Test Cases\n",
    "my_count([1,2,3,4,5]) == 5\n",
    "my_count(['a','b']) == 2\n",
    "my_count([]) == 0"
   ]
  },
  {
   "cell_type": "markdown",
   "id": "5a650818",
   "metadata": {},
   "source": [
    "----\n",
    "### 2.\n",
    "####  The function add_list returns the sum of all the elements of its input list, or 0 if its empty. Assume that all the elements in the input list are numbers"
   ]
  },
  {
   "cell_type": "code",
   "execution_count": 10,
   "id": "0cf822b8",
   "metadata": {},
   "outputs": [],
   "source": [
    "#Codiguito Bonito\n",
    "def add_list(numbers):\n",
    "    if not numbers:\n",
    "        return 0\n",
    "    else:\n",
    "        return(numbers[0] + add_list(numbers[1:]))"
   ]
  },
  {
   "cell_type": "code",
   "execution_count": 11,
   "id": "bba4052b",
   "metadata": {},
   "outputs": [
    {
     "data": {
      "text/plain": [
       "True"
      ]
     },
     "execution_count": 11,
     "metadata": {},
     "output_type": "execute_result"
    }
   ],
   "source": [
    "#Test Cases\n",
    "add_list([20,20,-2]) == 38\n",
    "add_list([1,1,1,1,1]) == 5\n",
    "add_list([]) == 0"
   ]
  },
  {
   "cell_type": "markdown",
   "id": "b15b83ed",
   "metadata": {},
   "source": [
    "-----\n",
    "### 3.\n",
    "#### The function ****is_member**** takes two arguments, any data x and a list lst. Returns true if x is contained inside the list lst, false otherwise. "
   ]
  },
  {
   "cell_type": "code",
   "execution_count": 12,
   "id": "2ef6c405",
   "metadata": {},
   "outputs": [],
   "source": [
    "#Codiguito Bonito\n",
    "def is_member(x, lst):\n",
    "    if x not in lst:\n",
    "        return False\n",
    "    elif lst[0] == x:\n",
    "        return True\n",
    "    else:\n",
    "        return(is_member(x, lst[1:]))"
   ]
  },
  {
   "cell_type": "code",
   "execution_count": 13,
   "id": "0e99c80f",
   "metadata": {},
   "outputs": [
    {
     "data": {
      "text/plain": [
       "True"
      ]
     },
     "execution_count": 13,
     "metadata": {},
     "output_type": "execute_result"
    }
   ],
   "source": [
    "#Test Cases\n",
    "is_member('a', [1,2,3, 'b', 'a']) == True\n",
    "is_member('c', ['d', 'f', 'g']) == False\n",
    "is_member(' ', []) == False"
   ]
  },
  {
   "cell_type": "markdown",
   "id": "433eeb25",
   "metadata": {},
   "source": [
    "----\n",
    "### 4.\n",
    "####  The function list_of_symbols takes a list lst as its argument. It returns true if all the elements (possibly zero) contained in lst are symbols, or false otherwise. Use string module from python."
   ]
  },
  {
   "cell_type": "code",
   "execution_count": 14,
   "id": "b141f8af",
   "metadata": {},
   "outputs": [],
   "source": [
    "#Codiguito Bonito\n",
    "import string\n",
    "string.ascii_letters\n",
    "\n",
    "def list_of_symbols(lst):\n",
    "    if not lst:\n",
    "        return False\n",
    "    elif lst[0] in string.ascii_letters:\n",
    "        return True\n",
    "    else:\n",
    "        return(list_of_symbols(lst[1:]))"
   ]
  },
  {
   "cell_type": "code",
   "execution_count": 15,
   "id": "2d96cf60",
   "metadata": {},
   "outputs": [
    {
     "data": {
      "text/plain": [
       "True"
      ]
     },
     "execution_count": 15,
     "metadata": {},
     "output_type": "execute_result"
    }
   ],
   "source": [
    "#Test Cases\n",
    "list_of_symbols([]) == False\n",
    "list_of_symbols(['a','B','c','d']) == True\n",
    "list_of_symbols(['1','1','2']) == False"
   ]
  },
  {
   "cell_type": "markdown",
   "id": "0f297ac1",
   "metadata": {},
   "source": [
    "----\n",
    "### 5.\n",
    "#### The function my_last returns the last element of its input list, or nil of its empty. Do not use the predefined last function ( [-1] ). "
   ]
  },
  {
   "cell_type": "code",
   "execution_count": 16,
   "id": "b21286ad",
   "metadata": {},
   "outputs": [],
   "source": [
    "#Codiguito Bonito\n",
    "def my_last(lst):\n",
    "    if len(lst) == 0:\n",
    "        return ''\n",
    "    elif len(lst) == 1:\n",
    "        return lst[0]\n",
    "    else:\n",
    "        return(my_last(lst[1:]))"
   ]
  },
  {
   "cell_type": "code",
   "execution_count": 17,
   "id": "e2e6bebb",
   "metadata": {},
   "outputs": [
    {
     "data": {
      "text/plain": [
       "True"
      ]
     },
     "execution_count": 17,
     "metadata": {},
     "output_type": "execute_result"
    }
   ],
   "source": [
    "#Test Cases\n",
    "my_last([1]) == 1\n",
    "my_last(['a','b','c',['j','k',{'l': 'l'}]]) == ['j','k',{'l': 'l'}]\n",
    "my_last([]) == ''"
   ]
  },
  {
   "cell_type": "markdown",
   "id": "d4cb0062",
   "metadata": {},
   "source": [
    "----\n",
    "### 6.\n",
    "#### The function cons_end takes two arguments, any data x and a list lst. Returns a list composed by the same elements of lst but with x at the end"
   ]
  },
  {
   "cell_type": "code",
   "execution_count": 20,
   "id": "74ff5d28",
   "metadata": {},
   "outputs": [],
   "source": [
    "#Codiguito Bonito\n",
    "def cons_end(x, lst):\n",
    "    print(lst)\n",
    "    if len(lst) == 0:\n",
    "        return ''\n",
    "    elif lst[0] == 0:\n",
    "        return(lst[0] + cons_end(x, lst[1:]))\n",
    "    else:\n",
    "        return(cons_end(x, lst[1:]))"
   ]
  },
  {
   "cell_type": "code",
   "execution_count": 21,
   "id": "76b9e232",
   "metadata": {},
   "outputs": [
    {
     "name": "stdout",
     "output_type": "stream",
     "text": [
      "[[5], [6]]\n",
      "[[6]]\n",
      "[]\n"
     ]
    },
    {
     "data": {
      "text/plain": [
       "''"
      ]
     },
     "execution_count": 21,
     "metadata": {},
     "output_type": "execute_result"
    }
   ],
   "source": [
    "x = [1,2,3,4] \n",
    "lst = [[5],[6]] \n",
    "cons_end(x ,lst)"
   ]
  },
  {
   "cell_type": "code",
   "execution_count": 181,
   "id": "f072611e",
   "metadata": {},
   "outputs": [
    {
     "data": {
      "text/plain": [
       "False"
      ]
     },
     "execution_count": 181,
     "metadata": {},
     "output_type": "execute_result"
    }
   ],
   "source": [
    "#Test Cases\n",
    "cons_end('b', ['a']) == ['a','b']\n",
    "cons_end([1,2,3,4], [[5],[6]]) == [[5], [6], [1, 2, 3, 4]]\n",
    "cons_end('', [1,2]) == [1,2,'']\n",
    "cons_end([], []) == [[]]"
   ]
  },
  {
   "cell_type": "markdown",
   "id": "2f6d1686",
   "metadata": {},
   "source": [
    "-----\n",
    "### 7.\n",
    "#### The function my_butlast returns a list with the same elements as its input list but excluding the last element, or nothing if its empty. Do not use the predefined butlast function."
   ]
  },
  {
   "cell_type": "code",
   "execution_count": null,
   "id": "7744ad74",
   "metadata": {},
   "outputs": [],
   "source": [
    "#Codiguito Bonito"
   ]
  },
  {
   "cell_type": "code",
   "execution_count": null,
   "id": "2f4b0c37",
   "metadata": {},
   "outputs": [],
   "source": [
    "#Test Cases\n",
    "my_butlast(['m','a','n','u', ['u'], 'e']) == ['m', 'a', 'n', 'u', ['u']]\n",
    "my_butlast(['1',[1,2,3],[5], 6]) == ['1',[1,2,3],[5]]\n",
    "my_butlast([]) == []"
   ]
  },
  {
   "cell_type": "markdown",
   "id": "92d2cb09",
   "metadata": {},
   "source": [
    "-----\n",
    "### 8.\n",
    "#### The function my_concat returns the resulting list of appending the two lists it takes as input. Do not use the predefined append function."
   ]
  },
  {
   "cell_type": "code",
   "execution_count": null,
   "id": "09cf9821",
   "metadata": {},
   "outputs": [],
   "source": [
    "#Codiguito Bonito"
   ]
  },
  {
   "cell_type": "code",
   "execution_count": null,
   "id": "9f507e6f",
   "metadata": {},
   "outputs": [],
   "source": [
    "#Test Cases\n",
    "my_concat([1,2,3,4], [5,6,7,8]) == [1,2,3,4,5,6,7,8]\n",
    "my_concat([5], []) == [5]\n",
    "my_concat([1,2,3,4], [[1,[2]]]) == [1,2,3,4, [1, [2]]]"
   ]
  },
  {
   "cell_type": "markdown",
   "id": "c0c4b0b2",
   "metadata": {},
   "source": [
    "------\n",
    "### 9.\n",
    "#### The function my_reverse takes a list as an argument. It returns another list with the same elements as the input list, but in reverse order. Do not use the predefined reverse function ( [:-1] )"
   ]
  },
  {
   "cell_type": "code",
   "execution_count": null,
   "id": "0ca063ec",
   "metadata": {},
   "outputs": [],
   "source": [
    "#Codiguito Bonito"
   ]
  },
  {
   "cell_type": "code",
   "execution_count": null,
   "id": "5af33564",
   "metadata": {},
   "outputs": [],
   "source": [
    "#Test Cases\n",
    "my_reverse([1,2,3,4,5]) == [5,4,3,2,1]\n",
    "my_reverse(['c','b','a']) == ['a','b','c']\n",
    "my_reverse([]) == []"
   ]
  },
  {
   "cell_type": "markdown",
   "id": "f13314af",
   "metadata": {},
   "source": [
    "-----\n",
    "### 10.\n",
    "#### The function deep_reverse takes a list as its input. It returns a list with the same elements as its input but in reverse order. If there are any nested lists, these too should be reversed."
   ]
  },
  {
   "cell_type": "code",
   "execution_count": null,
   "id": "e161f9e5",
   "metadata": {},
   "outputs": [],
   "source": [
    "#Codiguito Bonito"
   ]
  },
  {
   "cell_type": "code",
   "execution_count": null,
   "id": "f60bfc55",
   "metadata": {},
   "outputs": [],
   "source": [
    "#Test Cases\n",
    "deep_reverse([1,2,3,\n",
    "              [2,5,6,7,8], \n",
    "              ['a','b','c','d'], 4,6,7]) == [7, 6, 4, ['d', 'c', 'b', 'a'], [8, 7, 6, 5, 2], 3, 2, 1]\n",
    "\n",
    "deep_reverse([1,2,3]) == [3,2,1]\n",
    "deep_reverse([]) = []\n"
   ]
  }
 ],
 "metadata": {
  "kernelspec": {
   "display_name": "Python 3 (ipykernel)",
   "language": "python",
   "name": "python3"
  },
  "language_info": {
   "codemirror_mode": {
    "name": "ipython",
    "version": 3
   },
   "file_extension": ".py",
   "mimetype": "text/x-python",
   "name": "python",
   "nbconvert_exporter": "python",
   "pygments_lexer": "ipython3",
   "version": "3.9.13"
  }
 },
 "nbformat": 4,
 "nbformat_minor": 5
}
